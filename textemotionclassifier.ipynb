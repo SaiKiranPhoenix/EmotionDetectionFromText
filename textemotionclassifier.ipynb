{
  "cells": [
    {
      "cell_type": "markdown",
      "metadata": {
        "id": "view-in-github",
        "colab_type": "text"
      },
      "source": [
        "<a href=\"https://colab.research.google.com/github/SaiKiranPhoenix/EmotionDetectionFromText/blob/main/textemotionclassifier.ipynb\" target=\"_parent\"><img src=\"https://colab.research.google.com/assets/colab-badge.svg\" alt=\"Open In Colab\"/></a>"
      ]
    },
    {
      "cell_type": "code",
      "execution_count": 3,
      "id": "aa524a35",
      "metadata": {
        "colab": {
          "base_uri": "https://localhost:8080/"
        },
        "id": "aa524a35",
        "outputId": "bb7f3154-9eac-446a-c202-e247ed0e627d"
      },
      "outputs": [
        {
          "output_type": "stream",
          "name": "stdout",
          "text": [
            "Number of instances: 7480\n"
          ]
        }
      ],
      "source": [
        "import re \n",
        "from collections import Counter\n",
        "from sklearn.model_selection import train_test_split\n",
        "from sklearn.metrics import accuracy_score\n",
        "from sklearn.svm import SVC\n",
        "from sklearn.svm import LinearSVC\n",
        "from sklearn.ensemble import RandomForestClassifier\n",
        "from sklearn.tree import DecisionTreeClassifier\n",
        "\n",
        "def read_data(file):\n",
        "    data = []\n",
        "    with open(file, 'r')as f:\n",
        "        for line in f:\n",
        "            line = line.strip()\n",
        "            label = ' '.join(line[1:line.find(\"]\")].strip().split())\n",
        "            text = line[line.find(\"]\")+1:].strip()\n",
        "            data.append([label, text])\n",
        "    return data\n",
        "\n",
        "file = 'text.txt'\n",
        "data = read_data(file)\n",
        "print(\"Number of instances: {}\".format(len(data)))"
      ]
    },
    {
      "cell_type": "code",
      "execution_count": 4,
      "id": "b2ffeca0",
      "metadata": {
        "id": "b2ffeca0"
      },
      "outputs": [],
      "source": [
        "def ngram(token, n): \n",
        "    output = []\n",
        "    for i in range(n-1, len(token)): \n",
        "        ngram = ' '.join(token[i-n+1:i+1])\n",
        "        output.append(ngram) \n",
        "    return output\n",
        "\n",
        "def create_feature(text, nrange=(1, 1)):\n",
        "    text_features = [] \n",
        "    text = text.lower() \n",
        "    text_alphanum = re.sub('[^a-z0-9#]', ' ', text)\n",
        "    for n in range(nrange[0], nrange[1]+1): \n",
        "        text_features += ngram(text_alphanum.split(), n)    \n",
        "    text_punc = re.sub('[a-z0-9]', ' ', text)\n",
        "    text_features += ngram(text_punc.split(), 1)\n",
        "    return Counter(text_features)"
      ]
    },
    {
      "cell_type": "code",
      "execution_count": 5,
      "id": "dabc41fb",
      "metadata": {
        "id": "dabc41fb"
      },
      "outputs": [],
      "source": [
        "def convert_label(item, name): \n",
        "    items = list(map(float, item.split()))\n",
        "    label = \"\"\n",
        "    for idx in range(len(items)): \n",
        "        if items[idx] == 1: \n",
        "            label += name[idx] + \" \"\n",
        "    \n",
        "    return label.strip()\n",
        "\n",
        "emotions = [\"happy\", \"neutral\", \"neutral\", \"sad\", \"sad\", \"happy\", \"neutral\"]\n",
        "\n",
        "X_all = []\n",
        "y_all = []\n",
        "for label, text in data:\n",
        "    y_all.append(convert_label(label, emotions))\n",
        "    X_all.append(create_feature(text, nrange=(1, 4)))"
      ]
    },
    {
      "cell_type": "code",
      "execution_count": 6,
      "id": "b3cc51ed",
      "metadata": {
        "id": "b3cc51ed"
      },
      "outputs": [],
      "source": [
        "X_train, X_test, y_train, y_test = train_test_split(X_all, y_all, test_size = 0.2, random_state = 123)\n",
        "\n",
        "def train_test(clf, X_train, X_test, y_train, y_test):\n",
        "    clf.fit(X_train, y_train)\n",
        "    train_acc = accuracy_score(y_train, clf.predict(X_train))\n",
        "    test_acc = accuracy_score(y_test, clf.predict(X_test))\n",
        "    return train_acc, test_acc\n",
        "\n",
        "from sklearn.feature_extraction import DictVectorizer\n",
        "vectorizer = DictVectorizer(sparse = True)\n",
        "X_train = vectorizer.fit_transform(X_train)\n",
        "X_test = vectorizer.transform(X_test)"
      ]
    },
    {
      "cell_type": "code",
      "execution_count": 7,
      "id": "e8c64f46",
      "metadata": {
        "colab": {
          "base_uri": "https://localhost:8080/"
        },
        "id": "e8c64f46",
        "outputId": "7f0582f3-e90e-49e3-b2c9-ed8dc9825ff6"
      },
      "outputs": [
        {
          "output_type": "stream",
          "name": "stdout",
          "text": [
            "| Classifier                | Training Accuracy | Test Accuracy |\n",
            "| ------------------------- | ----------------- | ------------- |\n",
            "| SVC                       |         0.9241310 |     0.6290107 |\n"
          ]
        },
        {
          "output_type": "stream",
          "name": "stderr",
          "text": [
            "/usr/local/lib/python3.8/dist-packages/sklearn/svm/_base.py:1206: ConvergenceWarning: Liblinear failed to converge, increase the number of iterations.\n",
            "  warnings.warn(\n"
          ]
        },
        {
          "output_type": "stream",
          "name": "stdout",
          "text": [
            "| LinearSVC                 |         0.9989973 |     0.6644385 |\n",
            "| RandomForestClassifier    |         0.9989973 |     0.6183155 |\n",
            "| DecisionTreeClassifier    |         0.9989973 |     0.5788770 |\n"
          ]
        }
      ],
      "source": [
        "svc = SVC()\n",
        "lsvc = LinearSVC(random_state=123)\n",
        "rforest = RandomForestClassifier(random_state=123)\n",
        "dtree = DecisionTreeClassifier()\n",
        "\n",
        "clifs = [svc, lsvc, rforest, dtree]\n",
        "\n",
        "# train and test them \n",
        "print(\"| {:25} | {} | {} |\".format(\"Classifier\", \"Training Accuracy\", \"Test Accuracy\"))\n",
        "print(\"| {} | {} | {} |\".format(\"-\"*25, \"-\"*17, \"-\"*13))\n",
        "for clf in clifs: \n",
        "    clf_name = clf.__class__.__name__\n",
        "    train_acc, test_acc = train_test(clf, X_train, X_test, y_train, y_test)\n",
        "    print(\"| {:25} | {:17.7f} | {:13.7f} |\".format(clf_name, train_acc, test_acc))"
      ]
    },
    {
      "cell_type": "code",
      "execution_count": 8,
      "id": "eac17570",
      "metadata": {
        "colab": {
          "base_uri": "https://localhost:8080/"
        },
        "id": "eac17570",
        "outputId": "feadd013-8fbc-40fb-8e3e-fc047f672ff1"
      },
      "outputs": [
        {
          "output_type": "stream",
          "name": "stdout",
          "text": [
            "happy     (1. 0. 0. 0. 0. 0. 0.)  1084\n",
            "neutral   (0. 0. 1. 0. 0. 0. 0.)  1080\n",
            "sad       (0. 0. 0. 1. 0. 0. 0.)  1079\n",
            "neutral   (0. 1. 0. 0. 0. 0. 0.)  1078\n",
            "sad       (0. 0. 0. 0. 1. 0. 0.)  1057\n",
            "neutral   (0. 0. 0. 0. 0. 0. 1.)  1057\n",
            "happy     (0. 0. 0. 0. 0. 1. 0.)  1045\n"
          ]
        }
      ],
      "source": [
        "\n",
        "l = [\"happy\", \"neutral\", \"neutral\", \"sad\", \"sad\", \"happy\", \"neutral\"]\n",
        "l.sort()\n",
        "label_freq = {}\n",
        "for label, _ in data: \n",
        "    label_freq[label] = label_freq.get(label, 0) + 1\n",
        "\n",
        "# print the labels and their counts in sorted order \n",
        "for l in sorted(label_freq, key=label_freq.get, reverse=True):\n",
        "    print(\"{:10}({})  {}\".format(convert_label(l, emotions), l, label_freq[l]))"
      ]
    },
    {
      "cell_type": "code",
      "execution_count": 9,
      "id": "960a2aaf",
      "metadata": {
        "id": "960a2aaf"
      },
      "outputs": [],
      "source": [
        "emoji_dict = {\"happy\":\" -> Happy\",\"neutral\":\" -> Neutral\",\"neutral\":\" -> Neutral\", \"sad\":\" -> Sad\",\"sad\":\" -> Sad\" , \"happy\":\" -> Happy\", \"neutral\":\" -> Neutral\"}\n",
        "f=open(\"comments.txt\",\"r\")\n",
        "l=f.readlines()\n",
        "ns=[]\n",
        "for i in range(len(l)):\n",
        "    ns.append(l[i])\n"
      ]
    },
    {
      "cell_type": "code",
      "execution_count": 10,
      "id": "df21695c",
      "metadata": {
        "colab": {
          "base_uri": "https://localhost:8080/"
        },
        "id": "df21695c",
        "outputId": "5a7423fa-5e39-4563-a7de-3874c6172d04"
      },
      "outputs": [
        {
          "output_type": "stream",
          "name": "stdout",
          "text": [
            "i love my dog.\n",
            "  -> Happy\n",
            "My dog is died.  -> Sad\n"
          ]
        }
      ],
      "source": [
        "\n",
        "for text in ns: \n",
        "    features = create_feature(text, nrange=(1, 4))\n",
        "    features = vectorizer.transform(features)\n",
        "    prediction = clf.predict(features)[0]\n",
        "    print( text,emoji_dict[prediction])"
      ]
    }
  ],
  "metadata": {
    "kernelspec": {
      "display_name": "Python 3 (ipykernel)",
      "language": "python",
      "name": "python3"
    },
    "language_info": {
      "codemirror_mode": {
        "name": "ipython",
        "version": 3
      },
      "file_extension": ".py",
      "mimetype": "text/x-python",
      "name": "python",
      "nbconvert_exporter": "python",
      "pygments_lexer": "ipython3",
      "version": "3.9.13"
    },
    "colab": {
      "provenance": [],
      "include_colab_link": true
    }
  },
  "nbformat": 4,
  "nbformat_minor": 5
}